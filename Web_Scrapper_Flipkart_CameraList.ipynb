{
 "cells": [
  {
   "cell_type": "markdown",
   "id": "fd54d72f",
   "metadata": {},
   "source": [
    "# Flipkart web scrapping for Cameras\n"
   ]
  },
  {
   "cell_type": "markdown",
   "id": "ec6f60b5",
   "metadata": {},
   "source": [
    "Hello There!\n",
    "\n",
    "We will be thoroughly scrapping the Flipkart website and perform some data cleaning operations on the data to get all possible and necessary info about the cameras availaible in the market. As we are coding down below, detailed explanation of the code written down in below cell is given before. Also wherever necessary comments are written down after or before the specific code line.\n",
    "\n",
    "#### Objective: To srap down the Flipkart website to get important cameras specifications so that all the data can be analysed at one glance to select the best camera as per need. \n",
    "\n",
    "**Parameters to be scrapped are:**\n",
    "1. Camera Name\n",
    "2. Price (Discounted)\n",
    "3. MRP\n",
    "4. Brand\n",
    "5. Overall rating\n",
    "6. Number of ratings\n",
    "7. Type of camera\n",
    "8. Effective Pixels\n",
    "9. link of the product"
   ]
  },
  {
   "cell_type": "code",
   "execution_count": 1113,
   "id": "dbeeb88b",
   "metadata": {},
   "outputs": [],
   "source": [
    "# Importing the important libraries needed for srapping\n",
    "\n",
    "import numpy as np\n",
    "import pandas as pd                 \n",
    "import requests\n",
    "from bs4 import BeautifulSoup\n",
    "import csv\n",
    "import re"
   ]
  },
  {
   "cell_type": "markdown",
   "id": "e95948bf",
   "metadata": {},
   "source": [
    "\n",
    "In the very first step, we will open the required webpage to be scrapped and copy down the base url of the website. Headers are used in case to avoid any kind of IP address blocks.\n",
    "\n"
   ]
  },
  {
   "cell_type": "code",
   "execution_count": 1124,
   "id": "e95c72dd",
   "metadata": {},
   "outputs": [
    {
     "data": {
      "text/plain": [
       "24"
      ]
     },
     "execution_count": 1124,
     "metadata": {},
     "output_type": "execute_result"
    }
   ],
   "source": [
    "# Lets try if we can get the links of all products shown in the first webpage.\n",
    "\n",
    "base_url = 'https://www.flipkart.com'\n",
    "headers = {'User-agent' : 'Mozilla/5.0 (Windows NT 10.0; Win64; x64) AppleWebKit/537.36 (KHTML, like Gecko) Chrome/108.0.0.0 Safari/537.36'\n",
    "}\n",
    "\n",
    "# Creating object 'r' to request to have all html information of the page.\n",
    "r = requests.get(url = 'https://www.flipkart.com/cameras/pr?sid=jek%2Cp31&otracker=categorytree&page=1', headers = headers)\n",
    "\n",
    "# Creating objet 'soup' that will hold all the info in html form.\n",
    "soup =  BeautifulSoup(r.content, 'lxml')\n",
    "\n",
    "# Empty List of Links\n",
    "links = [] \n",
    "\n",
    "# All the reference links to the products are under class '_1fQZEK'.\n",
    "\n",
    "for a in soup.find_all(attrs = {'class' :'_1fQZEK'}):\n",
    "    links.append(base_url + a['href'])\n",
    "        \n",
    "len(links)"
   ]
  },
  {
   "cell_type": "markdown",
   "id": "52bb7b14",
   "metadata": {},
   "source": [
    "\n",
    "\n",
    "## Please Note that, small piece of code was ran everytime to check if the code is woking or not against a single webpage. Some of trial and error cells are excluded from the book to keep the length of book minimum.\n",
    "\n"
   ]
  },
  {
   "cell_type": "code",
   "execution_count": 1121,
   "id": "d89c82c4",
   "metadata": {
    "scrolled": false
   },
   "outputs": [
    {
     "data": {
      "text/plain": [
       "984"
      ]
     },
     "execution_count": 1121,
     "metadata": {},
     "output_type": "execute_result"
    }
   ],
   "source": [
    "base_url = 'https://www.flipkart.com'\n",
    "headers = {'User-agent' : 'Mozilla/5.0 (Windows NT 10.0; Win64; x64) AppleWebKit/537.36 (KHTML, like Gecko) Chrome/108.0.0.0 Safari/537.36'\n",
    "}\n",
    "\n",
    "# Empty List of Links\n",
    "linkList = [] \n",
    "\n",
    "# There are 46 pages in flipkart which hold all the cameras information\n",
    "for page in range(1,46): \n",
    "    \n",
    "    r = requests.get(url = f'https://www.flipkart.com/cameras/pr?sid=jek%2Cp31&otracker=categorytree&page={page}', headers = headers)\n",
    "    soup =  BeautifulSoup(r.content, 'lxml')\n",
    "    \n",
    "    # All the reference links to the products are under class '_1fQZEK'.\n",
    "\n",
    "    for a in soup.find_all(attrs = {'class' :'_1fQZEK'}):\n",
    "        linkList.append(base_url + a['href'])\n",
    "        \n",
    "len(linkList)\n"
   ]
  },
  {
   "cell_type": "markdown",
   "id": "692b561a",
   "metadata": {},
   "source": [
    "\n",
    "**Since we have the link of every product displayed on the every page of flipkart, we will create a simple for loop that will loop through every page and parse through every classes to find the required information. we can get the name of div/class/table by using inspect element.** "
   ]
  },
  {
   "cell_type": "code",
   "execution_count": 965,
   "id": "7f1d06ef",
   "metadata": {},
   "outputs": [],
   "source": [
    "\n",
    "# Empty product list that will hold the name of the product/ camera name.\n",
    "productList = []\n",
    "\n",
    "# Empty price list for price of the camera.\n",
    "priceList = []\n",
    "\n",
    "for link in linkList:\n",
    "    \n",
    "    x = requests.get(link, headers)\n",
    "    soup = BeautifulSoup(x.content, 'lxml')\n",
    "    \n",
    "    for product in soup.find_all('span', class_ = 'B_NuCI'):\n",
    "        \n",
    "        # Product obtained during for loop is in the html format. Therefore '.text' method is used to extract only text\n",
    "        # Since there are many texts, we only require the name of the product. Therefore the extracted string is further\n",
    "        # splitted using '.split()' method and indexing is used to get only first element.\n",
    "        \n",
    "        productList.append(product.text.split('\\xa0')[0])\n",
    "    \n",
    "    # Creating for loop to extract the price of the camera.\n",
    "    \n",
    "    for price in soup.find_all('div', class_ = '_30jeq3 _16Jk6d'):\n",
    "        priceList.append(price.text)\n"
   ]
  },
  {
   "cell_type": "code",
   "execution_count": 1123,
   "id": "76c91e82",
   "metadata": {},
   "outputs": [
    {
     "data": {
      "text/plain": [
       "984"
      ]
     },
     "execution_count": 1123,
     "metadata": {},
     "output_type": "execute_result"
    }
   ],
   "source": [
    "len(productList)"
   ]
  },
  {
   "cell_type": "code",
   "execution_count": 967,
   "id": "47429a42",
   "metadata": {},
   "outputs": [
    {
     "data": {
      "text/plain": [
       "984"
      ]
     },
     "execution_count": 967,
     "metadata": {},
     "output_type": "execute_result"
    }
   ],
   "source": [
    "len(priceList)"
   ]
  },
  {
   "cell_type": "markdown",
   "id": "c1445cb5",
   "metadata": {},
   "source": [
    "While doing the project, some errors and difficulties poped up that needed to be solved. Such as, it was found that some cameras did not have any ratings or reviews. Therefore, a unique class named 'gUuXy- _16VRIQ' was checked for its presence on the html document. If only it was present, for loop was created to extract the required information. Below cell is a part of trial and error process where it has two separate links of the products one of which have ratings and reviews and other one do not. "
   ]
  },
  {
   "cell_type": "code",
   "execution_count": null,
   "id": "2c05b1ad",
   "metadata": {},
   "outputs": [],
   "source": [
    "\n",
    "\n",
    "link1 = 'https://www.flipkart.com/maizic-smarthome-action-camera-pro-waterproof-case-30m-sustainable-mounting-accessories-sports/p/itm937e61b371c27?pid=SAYGDM3VSQCGHPAF&lid=LSTSAYGDM3VSQCGHPAFYMGL6M&marketplace=FLIPKART&store=jek%2Fp31&srno=b_41_965&otracker=browse&fm=organic&iid=9b2b78fe-4456-4e53-9c6f-d3335c7e45dc.SAYGDM3VSQCGHPAF.SEARCH&ppt=None&ppn=None&ssid=4tbt3o1qe80000001672759396724'\n",
    "link2 = 'https://www.flipkart.com/canon-eos-3000d-dslr-camera-1-body-18-55-mm-lens/p/itm6f665fea97bc2?pid=CAMF3DHJURPEMNRN&lid=LSTCAMF3DHJURPEMNRN8AVERV&marketplace=FLIPKART&store=jek%2Fp31&spotlightTagId=BestsellerId_jek%2Fp31&srno=b_1_1&otracker=browse&fm=organic&iid=ab3cae0e-92e7-43a8-b812-cf4a420eba7b.CAMF3DHJURPEMNRN.SEARCH&ppt=None&ppn=None&ssid=7wgvli7nz40000001672759359147'\n",
    "x = requests.get(link1, headers)\n",
    "soup = BeautifulSoup(x.content, 'lxml')\n",
    "\n",
    "if soup.find_all('div',attrs = {'class':'gUuXy- _16VRIQ'}):\n",
    "    for rating in soup.find('div',attrs={'class':'_3LWZlK'}):\n",
    "        print(rating.text)\n",
    "else:\n",
    "    print('---')\n",
    "\n",
    "    "
   ]
  },
  {
   "cell_type": "code",
   "execution_count": 956,
   "id": "6d3f1728",
   "metadata": {},
   "outputs": [],
   "source": [
    "# Creating empty list of ratings\n",
    "ratingList = []\n",
    "\n",
    "for link in linkList:\n",
    "    x = requests.get(link, headers)\n",
    "    soup = BeautifulSoup(x.content, 'lxml')\n",
    "    \n",
    "    if soup.find_all('div',attrs = {'class':'gUuXy- _16VRIQ'}):\n",
    "        for rating in soup.find('div',attrs={'_3LWZlK'}):\n",
    "#             print(rating.text.strip())\n",
    "            ratingList.append(rating.text)\n",
    "    \n",
    "    # Creating else statement in case if camera has no ratings and reviews.\n",
    "    \n",
    "    else:\n",
    "#         print(link)\n",
    "#         print('----')\n",
    "        ratingList.append('No rating') "
   ]
  },
  {
   "cell_type": "markdown",
   "id": "60d798e3",
   "metadata": {},
   "source": [
    "\n",
    "It was found that, the 'ratingList' so obtained had unexpected empty string elements such as ' '. To get the rid of them, simple data cleaning operation was performed as coded down in below cell.\n"
   ]
  },
  {
   "cell_type": "code",
   "execution_count": 957,
   "id": "037c30b9",
   "metadata": {},
   "outputs": [
    {
     "data": {
      "text/plain": [
       "984"
      ]
     },
     "execution_count": 957,
     "metadata": {},
     "output_type": "execute_result"
    }
   ],
   "source": [
    "ratingList = [i for i in ratingList if i!='']\n",
    "len(ratingList)"
   ]
  },
  {
   "cell_type": "code",
   "execution_count": 952,
   "id": "37f12bfe",
   "metadata": {},
   "outputs": [],
   "source": [
    "# Creating empty list of number of ratings\n",
    "ratingNum = []\n",
    "\n",
    "for link in linkList:\n",
    "    x = requests.get(link, headers)\n",
    "    soup = BeautifulSoup(x.content, 'lxml')\n",
    "    \n",
    "    if soup.find('div',attrs = {'class':'gUuXy- _16VRIQ'}):\n",
    "        for num in soup.find('span',attrs={'_2_R_DZ'}):\n",
    "#             print(num.text.split()[0])\n",
    "            ratingNum.append(num.text.split()[0])\n",
    "    else:\n",
    "#         print(link)\n",
    "#         print('----')\n",
    "        ratingNum.append('No rating')"
   ]
  },
  {
   "cell_type": "code",
   "execution_count": 953,
   "id": "f0102b7b",
   "metadata": {},
   "outputs": [
    {
     "data": {
      "text/plain": [
       "984"
      ]
     },
     "execution_count": 953,
     "metadata": {},
     "output_type": "execute_result"
    }
   ],
   "source": [
    "len(ratingNum)"
   ]
  },
  {
   "cell_type": "code",
   "execution_count": 978,
   "id": "95918277",
   "metadata": {},
   "outputs": [],
   "source": [
    "# Creating the empty list of original price of camera to store actual MRP.\n",
    "originalPrice = []\n",
    "\n",
    "for link in linkList:\n",
    "    x = requests.get(link, headers)\n",
    "    soup = BeautifulSoup(x.content, 'lxml')\n",
    "    \n",
    "    # Creating if else statement to check the presence of mentioned class.\n",
    "    if soup.find('div',attrs = {'class':'_3I9_wc _2p6lqe'}):\n",
    "        \n",
    "        for price in soup.find('div',attrs={'_3I9_wc _2p6lqe'}):\n",
    "#             print(price.text)\n",
    "            originalPrice.append(price.text)\n",
    "    else:\n",
    "        try:\n",
    "            for price in soup.find('div', attrs = {'class':'_30jeq3 _16Jk6d'}):\n",
    "#                 print(price.text)\n",
    "#                 print(link)\n",
    "#                 print('----')\n",
    "                originalPrice.append(price.text)\n",
    "        except:\n",
    "            originalPrice.append('Price')"
   ]
  },
  {
   "cell_type": "markdown",
   "id": "5755e98a",
   "metadata": {},
   "source": [
    "It was found that 'originalPrice' list was also having empty elements and '₹' symbol which had to be eliminated. Therefore it is filtered further using 'for' loop and 'if' statement."
   ]
  },
  {
   "cell_type": "code",
   "execution_count": 980,
   "id": "70039a5c",
   "metadata": {},
   "outputs": [
    {
     "data": {
      "text/plain": [
       "984"
      ]
     },
     "execution_count": 980,
     "metadata": {},
     "output_type": "execute_result"
    }
   ],
   "source": [
    "originalPrice = [i for i in originalPrice if i != '' and i != '₹']\n",
    "len(originalPrice)"
   ]
  },
  {
   "cell_type": "markdown",
   "id": "79f177df",
   "metadata": {},
   "source": [
    "### Webpages can also have the data stored in the table form. That makes it easy to scrap the data since python pandas library has option to read and store the data in table form using 'pd.read_html' method. All table elements can be stored in single variable."
   ]
  },
  {
   "cell_type": "code",
   "execution_count": null,
   "id": "edce3465",
   "metadata": {},
   "outputs": [],
   "source": [
    "brandName = []\n",
    "for link in linkList:\n",
    "    \n",
    "    # Try and except statements are used to handle the errors.\n",
    "    try:\n",
    "        # 'table' object is created to store all the tables on the product link.\n",
    "        table = pd.read_html(link)\n",
    "        \n",
    "        # The required parameter 'Brand' info lies in the second table amongst the 'table' element.\n",
    "        table2 = table[1]\n",
    "        \n",
    "        #Fetching the actual brand name and storing it in the variable 'val' and appending to list 'brandName'.\n",
    "        val = table2[1][table2[0]=='Brand'].values[0]\n",
    "        print(val)\n",
    "        brandName.append(val)\n",
    "    except:\n",
    "        brandName.append('')\n",
    "\n",
    "    \n",
    "    "
   ]
  },
  {
   "cell_type": "code",
   "execution_count": 950,
   "id": "4c99cd92",
   "metadata": {},
   "outputs": [
    {
     "data": {
      "text/plain": [
       "984"
      ]
     },
     "execution_count": 950,
     "metadata": {},
     "output_type": "execute_result"
    }
   ],
   "source": [
    "len(brandName)"
   ]
  },
  {
   "cell_type": "code",
   "execution_count": 959,
   "id": "f3c210c5",
   "metadata": {},
   "outputs": [],
   "source": [
    "# Creating empty list of camera types. There are basically two types of cameras DSLR and Mirrorless.\n",
    "typeName = []\n",
    "for link in linkList:\n",
    "    table = pd.read_html(link)\n",
    "    table2 = table[1]\n",
    "    try:\n",
    "        val = table2[1][table2[0]=='Type'].values[0]\n",
    "#         print(val)\n",
    "        typeName.append(val)\n",
    "    except:\n",
    "        typeName.append('')\n",
    "\n",
    "    \n",
    " "
   ]
  },
  {
   "cell_type": "code",
   "execution_count": 960,
   "id": "5ca5ea0d",
   "metadata": {},
   "outputs": [
    {
     "data": {
      "text/plain": [
       "984"
      ]
     },
     "execution_count": 960,
     "metadata": {},
     "output_type": "execute_result"
    }
   ],
   "source": [
    "len(typeName)"
   ]
  },
  {
   "cell_type": "code",
   "execution_count": 1125,
   "id": "af0735be",
   "metadata": {},
   "outputs": [
    {
     "data": {
      "text/plain": [
       "'36.3 MP'"
      ]
     },
     "execution_count": 1125,
     "metadata": {},
     "output_type": "execute_result"
    }
   ],
   "source": [
    "link = 'https://www.flipkart.com/nikon-d-810-dslr-camera-body-single-lens-24-120mm-vr-lens/p/itm98766c10249f8?pid=CAME6XPKURHZKMWZ&lid=LSTCAME6XPKURHZKMWZKHK4YF&marketplace=FLIPKART&store=jek%2Fp31&srno=b_1_17&otracker=browse&fm=organic&iid=dcbcfbab-36b4-4a8d-a0f8-e046909ef24a.CAME6XPKURHZKMWZ.SEARCH&ppt=browse&ppn=browse'\n",
    "table = pd.read_html(link)\n",
    "table2 = table[1]\n",
    "ep = table2[1][table2[0]=='Effective Pixels'].values[0]\n",
    "ep"
   ]
  },
  {
   "cell_type": "code",
   "execution_count": 962,
   "id": "bef54072",
   "metadata": {},
   "outputs": [],
   "source": [
    "# Creating empty list to store info about effective pixels of the camera.\n",
    "effectivePixels = []\n",
    "\n",
    "for link in linkList:\n",
    "    \n",
    "    try:\n",
    "        table = pd.read_html(link)\n",
    "        table2 = table[1]\n",
    "        effective_pixel = table2[1][table2[0] == 'Effective Pixels'].values[0]\n",
    "#         print(effective_pixel)\n",
    "        effectivePixels.append(effective_pixel)\n",
    "    except:\n",
    "        effectivePixels.append('')\n",
    "   "
   ]
  },
  {
   "cell_type": "code",
   "execution_count": 974,
   "id": "91b3949e",
   "metadata": {},
   "outputs": [
    {
     "data": {
      "text/plain": [
       "984"
      ]
     },
     "execution_count": 974,
     "metadata": {},
     "output_type": "execute_result"
    }
   ],
   "source": [
    "len(effectivePixels)"
   ]
  },
  {
   "cell_type": "code",
   "execution_count": null,
   "id": "f66e4dd9",
   "metadata": {},
   "outputs": [],
   "source": [
    "# Putting all pieces of code together in one single cell. \n",
    "\n",
    "base_url = 'https://www.flipkart.com'\n",
    "headers = {'User-agent' : 'Mozilla/5.0 (Windows NT 10.0; Win64; x64) AppleWebKit/537.36 (KHTML, like Gecko) Chrome/108.0.0.0 Safari/537.36'\n",
    "}\n",
    "productList = []\n",
    "priceList = []\n",
    "originalPrice = []\n",
    "brandName = []\n",
    "ratingList = []\n",
    "ratingNum = []\n",
    "typeName = []\n",
    "effectivePixels = []\n",
    "linkList = []\n",
    "\n",
    "\n",
    "\n",
    "for page in range(1,46):\n",
    "    r = requests.get(url = f'https://www.flipkart.com/cameras/pr?sid=jek%2Cp31&otracker=categorytree&page={page}', headers = headers)\n",
    "    soup =  BeautifulSoup(r.content, 'lxml')\n",
    "    \n",
    "    for link in soup.find_all(attrs={'class':'_1fQZEK'}):\n",
    "        linkList.append(base_url + link['href'])\n",
    "        \n",
    "\n",
    "for link in linkList:\n",
    "    x = requests.get(link, headers)\n",
    "    soup = BeautifulSoup(x.content, 'lxml')\n",
    "    \n",
    "    for product in soup.find_all('span', class_ = 'B_NuCI'):\n",
    "        productList.append(product.text.split('\\xa0')[0])\n",
    "    \n",
    "    for price in soup.find_all('div', class_ = '_30jeq3 _16Jk6d'):\n",
    "        priceList.append(price.text)\n",
    "    \n",
    "    if soup.find('div',attrs = {'class':'_3I9_wc _2p6lqe'}):\n",
    "        for price in soup.find('div',attrs={'_3I9_wc _2p6lqe'}):\n",
    "            originalPrice.append(price.text)\n",
    "    else:\n",
    "        try:\n",
    "            for price in soup.find('div', attrs = {'class':'_30jeq3 _16Jk6d'}):\n",
    "#                 print(price.text)\n",
    "#                 print(link)\n",
    "#                 print('----')\n",
    "                originalPrice.append(price.text)\n",
    "        except:\n",
    "            originalPrice.append('Price')\n",
    "    \n",
    "    try:\n",
    "        table = pd.read_html(link)\n",
    "        table2 = table[1]\n",
    "        val = table2[1][table2[0]=='Brand'].values[0]\n",
    "        print(val)\n",
    "        brandName.append(val)\n",
    "    except:\n",
    "        brandName.append('')\n",
    "    \n",
    "    if soup.find_all('div',attrs = {'class':'gUuXy- _16VRIQ'}):\n",
    "        for rating in soup.find('div',attrs={'_3LWZlK'}):\n",
    "            ratingList.append(rating.text)\n",
    "    else:\n",
    "        ratingList.append('No rating')\n",
    "    \n",
    "    if soup.find('div',attrs = {'class':'gUuXy- _16VRIQ'}):\n",
    "        for num in soup.find('span',attrs={'_2_R_DZ'}):\n",
    "            ratingNum.append(num.text.split()[0])\n",
    "    else:\n",
    "        ratingNum.append('No rating')\n",
    "    \n",
    "    table = pd.read_html(link)\n",
    "    table2 = table[1]\n",
    "    try:\n",
    "        val = table2[1][table2[0]=='Type'].values[0]\n",
    "#         print(val)\n",
    "        typeName.append(val)\n",
    "    except:\n",
    "        typeName.append('')\n",
    "    \n",
    "    try:\n",
    "        table = pd.read_html(link)\n",
    "        table2 = table[1]\n",
    "        effective_pixel = table2[1][table2[0] == 'Effective Pixels'].values[0]\n",
    "#         print(effective_pixel)\n",
    "        effectivePixels.append(effective_pixel)\n",
    "    except:\n",
    "        effectivePixels.append('')\n",
    "        "
   ]
  },
  {
   "cell_type": "code",
   "execution_count": 1026,
   "id": "e9a59899",
   "metadata": {},
   "outputs": [],
   "source": [
    "ratingList = [i for i in ratingList if i!='']\n",
    "originalPrice = [i for i in originalPrice if i != '' and i != '₹']"
   ]
  },
  {
   "cell_type": "code",
   "execution_count": 1065,
   "id": "3a1f8b29",
   "metadata": {},
   "outputs": [],
   "source": [
    "# Creating a dataframe called 'df' using pandas and storing every list under there respective names\n",
    "\n",
    "df = pd.DataFrame(list(zip(productList, priceList, originalPrice, brandName, ratingList,ratingNum, typeName, effectivePixels, linkList)),\n",
    "               columns =['Name', 'Price','Original Price','Brand','Overall Rating', 'No of ratings','Type', 'Effective Pixels', 'Link'])"
   ]
  },
  {
   "cell_type": "code",
   "execution_count": null,
   "id": "2c3c98e0",
   "metadata": {},
   "outputs": [],
   "source": [
    "df\n",
    "# Creating the copy of df into df2 so that we can roll back to original dataframe if anything goes wrong during data preparation.\n",
    "df2 = df"
   ]
  },
  {
   "cell_type": "markdown",
   "id": "bf674a15",
   "metadata": {},
   "source": [
    "# Data Cleaning/ Data Preparation:\n"
   ]
  },
  {
   "cell_type": "code",
   "execution_count": 1067,
   "id": "173d71e3",
   "metadata": {},
   "outputs": [],
   "source": [
    "# As we can see that we do not need symbol '₹' in the beginning of price. We will get rid of it by only fetching characters\n",
    "# present from index no.1.\n",
    "\n",
    "df2['Price'] = df2['Price'].apply(lambda x: x[1:])"
   ]
  },
  {
   "cell_type": "code",
   "execution_count": 1068,
   "id": "da8907d6",
   "metadata": {},
   "outputs": [
    {
     "data": {
      "text/html": [
       "<div>\n",
       "<style scoped>\n",
       "    .dataframe tbody tr th:only-of-type {\n",
       "        vertical-align: middle;\n",
       "    }\n",
       "\n",
       "    .dataframe tbody tr th {\n",
       "        vertical-align: top;\n",
       "    }\n",
       "\n",
       "    .dataframe thead th {\n",
       "        text-align: right;\n",
       "    }\n",
       "</style>\n",
       "<table border=\"1\" class=\"dataframe\">\n",
       "  <thead>\n",
       "    <tr style=\"text-align: right;\">\n",
       "      <th></th>\n",
       "      <th>Name</th>\n",
       "      <th>Price</th>\n",
       "      <th>Original Price</th>\n",
       "      <th>Brand</th>\n",
       "      <th>Overall Rating</th>\n",
       "      <th>No of ratings</th>\n",
       "      <th>Type</th>\n",
       "      <th>Effective Pixels</th>\n",
       "      <th>Link</th>\n",
       "    </tr>\n",
       "  </thead>\n",
       "  <tbody>\n",
       "    <tr>\n",
       "      <th>0</th>\n",
       "      <td>Canon EOS 3000D DSLR Camera 1 Camera Body, 18 ...</td>\n",
       "      <td>29,999</td>\n",
       "      <td>33,995</td>\n",
       "      <td>Canon</td>\n",
       "      <td>4.4</td>\n",
       "      <td>25,937</td>\n",
       "      <td>DSLR</td>\n",
       "      <td>18 MP</td>\n",
       "      <td>https://www.flipkart.com/canon-eos-3000d-dslr-...</td>\n",
       "    </tr>\n",
       "    <tr>\n",
       "      <th>1</th>\n",
       "      <td>Canon EOS 1500D DSLR Camera Body+ 18-55 mm IS ...</td>\n",
       "      <td>35,990</td>\n",
       "      <td>41,995</td>\n",
       "      <td>Canon</td>\n",
       "      <td>4.5</td>\n",
       "      <td>14,413</td>\n",
       "      <td>DSLR</td>\n",
       "      <td>24.1 MP</td>\n",
       "      <td>https://www.flipkart.com/canon-eos-1500d-dslr-...</td>\n",
       "    </tr>\n",
       "    <tr>\n",
       "      <th>2</th>\n",
       "      <td>SONY ZV-E10L Mirrorless Camera Body with 1650 ...</td>\n",
       "      <td>61,490</td>\n",
       "      <td>69,990</td>\n",
       "      <td>SONY</td>\n",
       "      <td>4.5</td>\n",
       "      <td>214</td>\n",
       "      <td>Mirrorless</td>\n",
       "      <td>24.2 MP</td>\n",
       "      <td>https://www.flipkart.com/sony-zv-e10l-mirrorle...</td>\n",
       "    </tr>\n",
       "    <tr>\n",
       "      <th>3</th>\n",
       "      <td>SONY Alpha ILCE-6400L APS-C Mirrorless Camera ...</td>\n",
       "      <td>79,990</td>\n",
       "      <td>90,990</td>\n",
       "      <td>SONY</td>\n",
       "      <td>4.6</td>\n",
       "      <td>495</td>\n",
       "      <td>Mirrorless</td>\n",
       "      <td>24.2 MP</td>\n",
       "      <td>https://www.flipkart.com/sony-alpha-ilce-6400l...</td>\n",
       "    </tr>\n",
       "    <tr>\n",
       "      <th>4</th>\n",
       "      <td>Canon EOS R10 Mirrorless Camera Body Only</td>\n",
       "      <td>80,995</td>\n",
       "      <td>₹80,995</td>\n",
       "      <td>Canon</td>\n",
       "      <td>4.9</td>\n",
       "      <td>14</td>\n",
       "      <td>Mirrorless</td>\n",
       "      <td>24.2 MP</td>\n",
       "      <td>https://www.flipkart.com/canon-eos-r10-mirrorl...</td>\n",
       "    </tr>\n",
       "    <tr>\n",
       "      <th>...</th>\n",
       "      <td>...</td>\n",
       "      <td>...</td>\n",
       "      <td>...</td>\n",
       "      <td>...</td>\n",
       "      <td>...</td>\n",
       "      <td>...</td>\n",
       "      <td>...</td>\n",
       "      <td>...</td>\n",
       "      <td>...</td>\n",
       "    </tr>\n",
       "    <tr>\n",
       "      <th>979</th>\n",
       "      <td>NIKON Z 7 Mirrorless Camera Body with Mount Ad...</td>\n",
       "      <td>2,29,999</td>\n",
       "      <td>2,41,450</td>\n",
       "      <td>NIKON</td>\n",
       "      <td>5</td>\n",
       "      <td>5</td>\n",
       "      <td>Mirrorless</td>\n",
       "      <td>45.7 MP</td>\n",
       "      <td>https://www.flipkart.com/nikon-z-7-mirrorless-...</td>\n",
       "    </tr>\n",
       "    <tr>\n",
       "      <th>980</th>\n",
       "      <td>SIOVS wifi SECURITY CAMERA CCTV Camera Mobile ...</td>\n",
       "      <td>1,289</td>\n",
       "      <td>2,899</td>\n",
       "      <td>SIOVS</td>\n",
       "      <td>No rating</td>\n",
       "      <td>No rating</td>\n",
       "      <td></td>\n",
       "      <td>12 MP</td>\n",
       "      <td>https://www.flipkart.com/siovs-wifi-security-c...</td>\n",
       "    </tr>\n",
       "    <tr>\n",
       "      <th>981</th>\n",
       "      <td>ALA SQ11 SQ11 HD 1080P Night Vision Camcorder ...</td>\n",
       "      <td>899</td>\n",
       "      <td>1,182</td>\n",
       "      <td>ALA</td>\n",
       "      <td>2.5</td>\n",
       "      <td>6</td>\n",
       "      <td></td>\n",
       "      <td>12 MP</td>\n",
       "      <td>https://www.flipkart.com/ala-sq11-hd-1080p-nig...</td>\n",
       "    </tr>\n",
       "    <tr>\n",
       "      <th>982</th>\n",
       "      <td>FUJIFILM instax mini 11 Instant Mini 11 Charco...</td>\n",
       "      <td>7,795</td>\n",
       "      <td>8,990</td>\n",
       "      <td>FUJIFILM</td>\n",
       "      <td>No rating</td>\n",
       "      <td>No rating</td>\n",
       "      <td></td>\n",
       "      <td></td>\n",
       "      <td>https://www.flipkart.com/fujifilm-instax-mini-...</td>\n",
       "    </tr>\n",
       "    <tr>\n",
       "      <th>983</th>\n",
       "      <td>Garundropsy 4k action camera 4k action camera ...</td>\n",
       "      <td>2,499</td>\n",
       "      <td>6,199</td>\n",
       "      <td>Garundropsy</td>\n",
       "      <td>No rating</td>\n",
       "      <td>No rating</td>\n",
       "      <td></td>\n",
       "      <td>1080 MP</td>\n",
       "      <td>https://www.flipkart.com/garundropsy-4k-action...</td>\n",
       "    </tr>\n",
       "  </tbody>\n",
       "</table>\n",
       "<p>984 rows × 9 columns</p>\n",
       "</div>"
      ],
      "text/plain": [
       "                                                  Name     Price  \\\n",
       "0    Canon EOS 3000D DSLR Camera 1 Camera Body, 18 ...    29,999   \n",
       "1    Canon EOS 1500D DSLR Camera Body+ 18-55 mm IS ...    35,990   \n",
       "2    SONY ZV-E10L Mirrorless Camera Body with 1650 ...    61,490   \n",
       "3    SONY Alpha ILCE-6400L APS-C Mirrorless Camera ...    79,990   \n",
       "4            Canon EOS R10 Mirrorless Camera Body Only    80,995   \n",
       "..                                                 ...       ...   \n",
       "979  NIKON Z 7 Mirrorless Camera Body with Mount Ad...  2,29,999   \n",
       "980  SIOVS wifi SECURITY CAMERA CCTV Camera Mobile ...     1,289   \n",
       "981  ALA SQ11 SQ11 HD 1080P Night Vision Camcorder ...       899   \n",
       "982  FUJIFILM instax mini 11 Instant Mini 11 Charco...     7,795   \n",
       "983  Garundropsy 4k action camera 4k action camera ...     2,499   \n",
       "\n",
       "    Original Price        Brand Overall Rating No of ratings        Type  \\\n",
       "0           33,995        Canon            4.4        25,937        DSLR   \n",
       "1           41,995        Canon            4.5        14,413        DSLR   \n",
       "2           69,990         SONY            4.5           214  Mirrorless   \n",
       "3           90,990         SONY            4.6           495  Mirrorless   \n",
       "4          ₹80,995        Canon            4.9            14  Mirrorless   \n",
       "..             ...          ...            ...           ...         ...   \n",
       "979       2,41,450        NIKON              5             5  Mirrorless   \n",
       "980          2,899        SIOVS      No rating     No rating               \n",
       "981          1,182          ALA            2.5             6               \n",
       "982          8,990     FUJIFILM      No rating     No rating               \n",
       "983          6,199  Garundropsy      No rating     No rating               \n",
       "\n",
       "    Effective Pixels                                               Link  \n",
       "0              18 MP  https://www.flipkart.com/canon-eos-3000d-dslr-...  \n",
       "1            24.1 MP  https://www.flipkart.com/canon-eos-1500d-dslr-...  \n",
       "2            24.2 MP  https://www.flipkart.com/sony-zv-e10l-mirrorle...  \n",
       "3            24.2 MP  https://www.flipkart.com/sony-alpha-ilce-6400l...  \n",
       "4            24.2 MP  https://www.flipkart.com/canon-eos-r10-mirrorl...  \n",
       "..               ...                                                ...  \n",
       "979          45.7 MP  https://www.flipkart.com/nikon-z-7-mirrorless-...  \n",
       "980            12 MP  https://www.flipkart.com/siovs-wifi-security-c...  \n",
       "981            12 MP  https://www.flipkart.com/ala-sq11-hd-1080p-nig...  \n",
       "982                   https://www.flipkart.com/fujifilm-instax-mini-...  \n",
       "983          1080 MP  https://www.flipkart.com/garundropsy-4k-action...  \n",
       "\n",
       "[984 rows x 9 columns]"
      ]
     },
     "execution_count": 1068,
     "metadata": {},
     "output_type": "execute_result"
    }
   ],
   "source": [
    "df2"
   ]
  },
  {
   "cell_type": "code",
   "execution_count": 1135,
   "id": "2bb920bf",
   "metadata": {},
   "outputs": [
    {
     "data": {
      "text/plain": [
       "'3'"
      ]
     },
     "execution_count": 1135,
     "metadata": {},
     "output_type": "execute_result"
    }
   ],
   "source": [
    "df2['Original Price'][0][0].split()[0]"
   ]
  },
  {
   "cell_type": "code",
   "execution_count": 1101,
   "id": "9a4d7376",
   "metadata": {},
   "outputs": [],
   "source": [
    "# We can observe in the 'Original Price' column that there are some prices who have prefix '₹'. We will create a for loop\n",
    "# that will iterate through every cell and check if the first string character is whether '₹' or not.\n",
    "\n",
    "for i in range(0,984):\n",
    "    x = df2['Original Price'][i][0].split()\n",
    "    if x[0] == '₹':\n",
    "        df2['Original Price'][i] = df2['Original Price'][i].split('₹')[1]\n",
    "    \n"
   ]
  },
  {
   "cell_type": "code",
   "execution_count": 1105,
   "id": "3ee10a29",
   "metadata": {},
   "outputs": [],
   "source": [
    "# We also do not want ',' in the string. Thereofore we will split and then join every cell element in the 'Original Price'\n",
    "# column using join and split method.\n",
    "\n",
    "df2['Original Price'] = df2['Original Price'].apply(lambda x : ''.join(x.split(',')))                                                  "
   ]
  },
  {
   "cell_type": "code",
   "execution_count": 1107,
   "id": "18b8fbc2",
   "metadata": {},
   "outputs": [],
   "source": [
    "# Let's get rid of comma from the 'Price' column elements\n",
    "\n",
    "df2['Price'] = df2['Price'].apply(lambda x : ''.join(x.split(',')))"
   ]
  },
  {
   "cell_type": "code",
   "execution_count": 1109,
   "id": "85d09e59",
   "metadata": {},
   "outputs": [],
   "source": [
    "# We only want the number from the 'Effective Pixels' column. Therefore splitting every element by ' ' and returning \n",
    "# only first element from the obtained list by indexing.\n",
    "\n",
    "df2['Effective Pixels'] = df2['Effective Pixels'].apply(lambda x : x.split(' ')[0])"
   ]
  },
  {
   "cell_type": "code",
   "execution_count": 1110,
   "id": "eb7bfabe",
   "metadata": {},
   "outputs": [
    {
     "data": {
      "text/html": [
       "<div>\n",
       "<style scoped>\n",
       "    .dataframe tbody tr th:only-of-type {\n",
       "        vertical-align: middle;\n",
       "    }\n",
       "\n",
       "    .dataframe tbody tr th {\n",
       "        vertical-align: top;\n",
       "    }\n",
       "\n",
       "    .dataframe thead th {\n",
       "        text-align: right;\n",
       "    }\n",
       "</style>\n",
       "<table border=\"1\" class=\"dataframe\">\n",
       "  <thead>\n",
       "    <tr style=\"text-align: right;\">\n",
       "      <th></th>\n",
       "      <th>Name</th>\n",
       "      <th>Price</th>\n",
       "      <th>Original Price</th>\n",
       "      <th>Brand</th>\n",
       "      <th>Overall Rating</th>\n",
       "      <th>No of ratings</th>\n",
       "      <th>Type</th>\n",
       "      <th>Effective Pixels</th>\n",
       "      <th>Link</th>\n",
       "    </tr>\n",
       "  </thead>\n",
       "  <tbody>\n",
       "    <tr>\n",
       "      <th>0</th>\n",
       "      <td>Canon EOS 3000D DSLR Camera 1 Camera Body, 18 ...</td>\n",
       "      <td>29999</td>\n",
       "      <td>33995</td>\n",
       "      <td>Canon</td>\n",
       "      <td>4.4</td>\n",
       "      <td>25,937</td>\n",
       "      <td>DSLR</td>\n",
       "      <td>18</td>\n",
       "      <td>https://www.flipkart.com/canon-eos-3000d-dslr-...</td>\n",
       "    </tr>\n",
       "    <tr>\n",
       "      <th>1</th>\n",
       "      <td>Canon EOS 1500D DSLR Camera Body+ 18-55 mm IS ...</td>\n",
       "      <td>35990</td>\n",
       "      <td>41995</td>\n",
       "      <td>Canon</td>\n",
       "      <td>4.5</td>\n",
       "      <td>14,413</td>\n",
       "      <td>DSLR</td>\n",
       "      <td>24.1</td>\n",
       "      <td>https://www.flipkart.com/canon-eos-1500d-dslr-...</td>\n",
       "    </tr>\n",
       "    <tr>\n",
       "      <th>2</th>\n",
       "      <td>SONY ZV-E10L Mirrorless Camera Body with 1650 ...</td>\n",
       "      <td>61490</td>\n",
       "      <td>69990</td>\n",
       "      <td>SONY</td>\n",
       "      <td>4.5</td>\n",
       "      <td>214</td>\n",
       "      <td>Mirrorless</td>\n",
       "      <td>24.2</td>\n",
       "      <td>https://www.flipkart.com/sony-zv-e10l-mirrorle...</td>\n",
       "    </tr>\n",
       "    <tr>\n",
       "      <th>3</th>\n",
       "      <td>SONY Alpha ILCE-6400L APS-C Mirrorless Camera ...</td>\n",
       "      <td>79990</td>\n",
       "      <td>90990</td>\n",
       "      <td>SONY</td>\n",
       "      <td>4.6</td>\n",
       "      <td>495</td>\n",
       "      <td>Mirrorless</td>\n",
       "      <td>24.2</td>\n",
       "      <td>https://www.flipkart.com/sony-alpha-ilce-6400l...</td>\n",
       "    </tr>\n",
       "    <tr>\n",
       "      <th>4</th>\n",
       "      <td>Canon EOS R10 Mirrorless Camera Body Only</td>\n",
       "      <td>80995</td>\n",
       "      <td>80995</td>\n",
       "      <td>Canon</td>\n",
       "      <td>4.9</td>\n",
       "      <td>14</td>\n",
       "      <td>Mirrorless</td>\n",
       "      <td>24.2</td>\n",
       "      <td>https://www.flipkart.com/canon-eos-r10-mirrorl...</td>\n",
       "    </tr>\n",
       "    <tr>\n",
       "      <th>...</th>\n",
       "      <td>...</td>\n",
       "      <td>...</td>\n",
       "      <td>...</td>\n",
       "      <td>...</td>\n",
       "      <td>...</td>\n",
       "      <td>...</td>\n",
       "      <td>...</td>\n",
       "      <td>...</td>\n",
       "      <td>...</td>\n",
       "    </tr>\n",
       "    <tr>\n",
       "      <th>979</th>\n",
       "      <td>NIKON Z 7 Mirrorless Camera Body with Mount Ad...</td>\n",
       "      <td>229999</td>\n",
       "      <td>241450</td>\n",
       "      <td>NIKON</td>\n",
       "      <td>5</td>\n",
       "      <td>5</td>\n",
       "      <td>Mirrorless</td>\n",
       "      <td>45.7</td>\n",
       "      <td>https://www.flipkart.com/nikon-z-7-mirrorless-...</td>\n",
       "    </tr>\n",
       "    <tr>\n",
       "      <th>980</th>\n",
       "      <td>SIOVS wifi SECURITY CAMERA CCTV Camera Mobile ...</td>\n",
       "      <td>1289</td>\n",
       "      <td>2899</td>\n",
       "      <td>SIOVS</td>\n",
       "      <td>No rating</td>\n",
       "      <td>No rating</td>\n",
       "      <td></td>\n",
       "      <td>12</td>\n",
       "      <td>https://www.flipkart.com/siovs-wifi-security-c...</td>\n",
       "    </tr>\n",
       "    <tr>\n",
       "      <th>981</th>\n",
       "      <td>ALA SQ11 SQ11 HD 1080P Night Vision Camcorder ...</td>\n",
       "      <td>899</td>\n",
       "      <td>1182</td>\n",
       "      <td>ALA</td>\n",
       "      <td>2.5</td>\n",
       "      <td>6</td>\n",
       "      <td></td>\n",
       "      <td>12</td>\n",
       "      <td>https://www.flipkart.com/ala-sq11-hd-1080p-nig...</td>\n",
       "    </tr>\n",
       "    <tr>\n",
       "      <th>982</th>\n",
       "      <td>FUJIFILM instax mini 11 Instant Mini 11 Charco...</td>\n",
       "      <td>7795</td>\n",
       "      <td>8990</td>\n",
       "      <td>FUJIFILM</td>\n",
       "      <td>No rating</td>\n",
       "      <td>No rating</td>\n",
       "      <td></td>\n",
       "      <td></td>\n",
       "      <td>https://www.flipkart.com/fujifilm-instax-mini-...</td>\n",
       "    </tr>\n",
       "    <tr>\n",
       "      <th>983</th>\n",
       "      <td>Garundropsy 4k action camera 4k action camera ...</td>\n",
       "      <td>2499</td>\n",
       "      <td>6199</td>\n",
       "      <td>Garundropsy</td>\n",
       "      <td>No rating</td>\n",
       "      <td>No rating</td>\n",
       "      <td></td>\n",
       "      <td>1080</td>\n",
       "      <td>https://www.flipkart.com/garundropsy-4k-action...</td>\n",
       "    </tr>\n",
       "  </tbody>\n",
       "</table>\n",
       "<p>984 rows × 9 columns</p>\n",
       "</div>"
      ],
      "text/plain": [
       "                                                  Name   Price Original Price  \\\n",
       "0    Canon EOS 3000D DSLR Camera 1 Camera Body, 18 ...   29999          33995   \n",
       "1    Canon EOS 1500D DSLR Camera Body+ 18-55 mm IS ...   35990          41995   \n",
       "2    SONY ZV-E10L Mirrorless Camera Body with 1650 ...   61490          69990   \n",
       "3    SONY Alpha ILCE-6400L APS-C Mirrorless Camera ...   79990          90990   \n",
       "4            Canon EOS R10 Mirrorless Camera Body Only   80995          80995   \n",
       "..                                                 ...     ...            ...   \n",
       "979  NIKON Z 7 Mirrorless Camera Body with Mount Ad...  229999         241450   \n",
       "980  SIOVS wifi SECURITY CAMERA CCTV Camera Mobile ...    1289           2899   \n",
       "981  ALA SQ11 SQ11 HD 1080P Night Vision Camcorder ...     899           1182   \n",
       "982  FUJIFILM instax mini 11 Instant Mini 11 Charco...    7795           8990   \n",
       "983  Garundropsy 4k action camera 4k action camera ...    2499           6199   \n",
       "\n",
       "           Brand Overall Rating No of ratings        Type Effective Pixels  \\\n",
       "0          Canon            4.4        25,937        DSLR               18   \n",
       "1          Canon            4.5        14,413        DSLR             24.1   \n",
       "2           SONY            4.5           214  Mirrorless             24.2   \n",
       "3           SONY            4.6           495  Mirrorless             24.2   \n",
       "4          Canon            4.9            14  Mirrorless             24.2   \n",
       "..           ...            ...           ...         ...              ...   \n",
       "979        NIKON              5             5  Mirrorless             45.7   \n",
       "980        SIOVS      No rating     No rating                           12   \n",
       "981          ALA            2.5             6                           12   \n",
       "982     FUJIFILM      No rating     No rating                                \n",
       "983  Garundropsy      No rating     No rating                         1080   \n",
       "\n",
       "                                                  Link  \n",
       "0    https://www.flipkart.com/canon-eos-3000d-dslr-...  \n",
       "1    https://www.flipkart.com/canon-eos-1500d-dslr-...  \n",
       "2    https://www.flipkart.com/sony-zv-e10l-mirrorle...  \n",
       "3    https://www.flipkart.com/sony-alpha-ilce-6400l...  \n",
       "4    https://www.flipkart.com/canon-eos-r10-mirrorl...  \n",
       "..                                                 ...  \n",
       "979  https://www.flipkart.com/nikon-z-7-mirrorless-...  \n",
       "980  https://www.flipkart.com/siovs-wifi-security-c...  \n",
       "981  https://www.flipkart.com/ala-sq11-hd-1080p-nig...  \n",
       "982  https://www.flipkart.com/fujifilm-instax-mini-...  \n",
       "983  https://www.flipkart.com/garundropsy-4k-action...  \n",
       "\n",
       "[984 rows x 9 columns]"
      ]
     },
     "execution_count": 1110,
     "metadata": {},
     "output_type": "execute_result"
    }
   ],
   "source": [
    "# Now our dataset is ready to be exported into 'csv' file.\n",
    "\n",
    "df2"
   ]
  },
  {
   "cell_type": "code",
   "execution_count": 1111,
   "id": "d04cf770",
   "metadata": {},
   "outputs": [],
   "source": [
    "# Exporting the cleaned dataset to 'csv' file\n",
    "\n",
    "df2.to_csv(r'C:\\Users\\sutar\\OneDrive\\Documents\\Backup_Documents\\Data Analytics\\Web_scrapping_PyCharm\\CameraList_cleaned.csv')"
   ]
  },
  {
   "cell_type": "markdown",
   "id": "340125c5",
   "metadata": {},
   "source": [
    "\n",
    "\n",
    "# Thank you !"
   ]
  }
 ],
 "metadata": {
  "kernelspec": {
   "display_name": "Python 3 (ipykernel)",
   "language": "python",
   "name": "python3"
  },
  "language_info": {
   "codemirror_mode": {
    "name": "ipython",
    "version": 3
   },
   "file_extension": ".py",
   "mimetype": "text/x-python",
   "name": "python",
   "nbconvert_exporter": "python",
   "pygments_lexer": "ipython3",
   "version": "3.9.12"
  }
 },
 "nbformat": 4,
 "nbformat_minor": 5
}
